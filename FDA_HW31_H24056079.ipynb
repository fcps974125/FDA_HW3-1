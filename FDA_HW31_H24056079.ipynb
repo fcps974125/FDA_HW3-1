{
 "cells": [
  {
   "cell_type": "code",
   "execution_count": 1,
   "metadata": {},
   "outputs": [],
   "source": [
    "import numpy as np\n",
    "import pandas as pd\n",
    "import matplotlib.pyplot as plt\n",
    "import time\n",
    "import datetime\n",
    "\n",
    "from sklearn.linear_model import LogisticRegression\n",
    "from sklearn.neural_network import MLPClassifier\n",
    "from sklearn.svm import LinearSVC\n",
    "from sklearn.pipeline import make_pipeline\n",
    "from sklearn.preprocessing import StandardScaler"
   ]
  },
  {
   "cell_type": "markdown",
   "metadata": {},
   "source": [
    "## preprocess"
   ]
  },
  {
   "cell_type": "code",
   "execution_count": 2,
   "metadata": {},
   "outputs": [],
   "source": [
    "def getData(df):\n",
    "    out = pd.DataFrame()\n",
    "    out['open'] = df['Open Price'].iloc[1:-1].values - df['Open Price'].iloc[0:-2].values\n",
    "    out['close'] = df['Close Price'].iloc[1:-1].values - df['Close Price'].iloc[0:-2].values\n",
    "    out['high'] = df['High Price'].iloc[1:-1].values - df['High Price'].iloc[0:-2].values\n",
    "    out['low'] = df['Low Price'].iloc[1:-1].values - df['Low Price'].iloc[0:-2].values\n",
    "    out['move'] = df['Close Price'].iloc[1:-1].values - df['Open Price'].iloc[1:-1].values\n",
    "\n",
    "    y = df['Close Price'].iloc[2:].values - df['Close Price'].iloc[1:-1].values\n",
    "    y[y > 0] = 1\n",
    "    y[y != 1] = 0\n",
    "    out['y']  = y\n",
    "    return out.drop(columns=['y']), out[['y']]\n",
    "\n",
    "def getTime(s):\n",
    "    t = time.mktime(datetime.datetime.strptime(s, \"%d-%b-%Y\").timetuple())\n",
    "    return round(t / 5e4)"
   ]
  },
  {
   "cell_type": "code",
   "execution_count": 3,
   "metadata": {},
   "outputs": [
    {
     "data": {
      "text/html": [
       "<div>\n",
       "<style scoped>\n",
       "    .dataframe tbody tr th:only-of-type {\n",
       "        vertical-align: middle;\n",
       "    }\n",
       "\n",
       "    .dataframe tbody tr th {\n",
       "        vertical-align: top;\n",
       "    }\n",
       "\n",
       "    .dataframe thead th {\n",
       "        text-align: right;\n",
       "    }\n",
       "</style>\n",
       "<table border=\"1\" class=\"dataframe\">\n",
       "  <thead>\n",
       "    <tr style=\"text-align: right;\">\n",
       "      <th></th>\n",
       "      <th>Date</th>\n",
       "      <th>Open Price</th>\n",
       "      <th>Close Price</th>\n",
       "      <th>High Price</th>\n",
       "      <th>Low Price</th>\n",
       "      <th>Volume</th>\n",
       "    </tr>\n",
       "  </thead>\n",
       "  <tbody>\n",
       "    <tr>\n",
       "      <th>0</th>\n",
       "      <td>24617</td>\n",
       "      <td>902.99</td>\n",
       "      <td>931.80</td>\n",
       "      <td>934.73</td>\n",
       "      <td>899.35</td>\n",
       "      <td>4048270080</td>\n",
       "    </tr>\n",
       "    <tr>\n",
       "      <th>1</th>\n",
       "      <td>24622</td>\n",
       "      <td>929.17</td>\n",
       "      <td>927.45</td>\n",
       "      <td>936.63</td>\n",
       "      <td>919.53</td>\n",
       "      <td>5413910016</td>\n",
       "    </tr>\n",
       "    <tr>\n",
       "      <th>2</th>\n",
       "      <td>24623</td>\n",
       "      <td>931.17</td>\n",
       "      <td>934.70</td>\n",
       "      <td>943.85</td>\n",
       "      <td>927.28</td>\n",
       "      <td>5392620032</td>\n",
       "    </tr>\n",
       "    <tr>\n",
       "      <th>3</th>\n",
       "      <td>24625</td>\n",
       "      <td>927.45</td>\n",
       "      <td>906.65</td>\n",
       "      <td>927.45</td>\n",
       "      <td>902.37</td>\n",
       "      <td>4704940032</td>\n",
       "    </tr>\n",
       "    <tr>\n",
       "      <th>4</th>\n",
       "      <td>24627</td>\n",
       "      <td>905.73</td>\n",
       "      <td>909.73</td>\n",
       "      <td>910.00</td>\n",
       "      <td>896.81</td>\n",
       "      <td>4991549952</td>\n",
       "    </tr>\n",
       "  </tbody>\n",
       "</table>\n",
       "</div>"
      ],
      "text/plain": [
       "    Date  Open Price  Close Price  High Price  Low Price      Volume\n",
       "0  24617      902.99       931.80      934.73     899.35  4048270080\n",
       "1  24622      929.17       927.45      936.63     919.53  5413910016\n",
       "2  24623      931.17       934.70      943.85     927.28  5392620032\n",
       "3  24625      927.45       906.65      927.45     902.37  4704940032\n",
       "4  24627      905.73       909.73      910.00     896.81  4991549952"
      ]
     },
     "execution_count": 3,
     "metadata": {},
     "output_type": "execute_result"
    }
   ],
   "source": [
    "df1 = pd.read_csv('train.csv')\n",
    "df2 = pd.read_csv('test.csv')\n",
    "\n",
    "df1.Date = df1.Date.apply(getTime)\n",
    "df2.Date = df2.Date.apply(getTime)\n",
    "df1.head()"
   ]
  },
  {
   "cell_type": "code",
   "execution_count": 4,
   "metadata": {},
   "outputs": [
    {
     "data": {
      "text/html": [
       "<div>\n",
       "<style scoped>\n",
       "    .dataframe tbody tr th:only-of-type {\n",
       "        vertical-align: middle;\n",
       "    }\n",
       "\n",
       "    .dataframe tbody tr th {\n",
       "        vertical-align: top;\n",
       "    }\n",
       "\n",
       "    .dataframe thead th {\n",
       "        text-align: right;\n",
       "    }\n",
       "</style>\n",
       "<table border=\"1\" class=\"dataframe\">\n",
       "  <thead>\n",
       "    <tr style=\"text-align: right;\">\n",
       "      <th></th>\n",
       "      <th>open</th>\n",
       "      <th>close</th>\n",
       "      <th>high</th>\n",
       "      <th>low</th>\n",
       "      <th>move</th>\n",
       "    </tr>\n",
       "  </thead>\n",
       "  <tbody>\n",
       "    <tr>\n",
       "      <th>0</th>\n",
       "      <td>26.18</td>\n",
       "      <td>-4.35</td>\n",
       "      <td>1.90</td>\n",
       "      <td>20.18</td>\n",
       "      <td>-1.72</td>\n",
       "    </tr>\n",
       "    <tr>\n",
       "      <th>1</th>\n",
       "      <td>2.00</td>\n",
       "      <td>7.25</td>\n",
       "      <td>7.22</td>\n",
       "      <td>7.75</td>\n",
       "      <td>3.53</td>\n",
       "    </tr>\n",
       "    <tr>\n",
       "      <th>2</th>\n",
       "      <td>-3.72</td>\n",
       "      <td>-28.05</td>\n",
       "      <td>-16.40</td>\n",
       "      <td>-24.91</td>\n",
       "      <td>-20.80</td>\n",
       "    </tr>\n",
       "    <tr>\n",
       "      <th>3</th>\n",
       "      <td>-21.72</td>\n",
       "      <td>3.08</td>\n",
       "      <td>-17.45</td>\n",
       "      <td>-5.56</td>\n",
       "      <td>4.00</td>\n",
       "    </tr>\n",
       "    <tr>\n",
       "      <th>4</th>\n",
       "      <td>4.18</td>\n",
       "      <td>-19.38</td>\n",
       "      <td>1.93</td>\n",
       "      <td>-8.50</td>\n",
       "      <td>-19.56</td>\n",
       "    </tr>\n",
       "  </tbody>\n",
       "</table>\n",
       "</div>"
      ],
      "text/plain": [
       "    open  close   high    low   move\n",
       "0  26.18  -4.35   1.90  20.18  -1.72\n",
       "1   2.00   7.25   7.22   7.75   3.53\n",
       "2  -3.72 -28.05 -16.40 -24.91 -20.80\n",
       "3 -21.72   3.08 -17.45  -5.56   4.00\n",
       "4   4.18 -19.38   1.93  -8.50 -19.56"
      ]
     },
     "execution_count": 4,
     "metadata": {},
     "output_type": "execute_result"
    }
   ],
   "source": [
    "x_train, y_train = getData(df1)\n",
    "x_test, y_test = getData(df2)\n",
    "x_train.head()"
   ]
  },
  {
   "cell_type": "code",
   "execution_count": 5,
   "metadata": {
    "scrolled": true
   },
   "outputs": [
    {
     "data": {
      "text/html": [
       "<div>\n",
       "<style scoped>\n",
       "    .dataframe tbody tr th:only-of-type {\n",
       "        vertical-align: middle;\n",
       "    }\n",
       "\n",
       "    .dataframe tbody tr th {\n",
       "        vertical-align: top;\n",
       "    }\n",
       "\n",
       "    .dataframe thead th {\n",
       "        text-align: right;\n",
       "    }\n",
       "</style>\n",
       "<table border=\"1\" class=\"dataframe\">\n",
       "  <thead>\n",
       "    <tr style=\"text-align: right;\">\n",
       "      <th></th>\n",
       "      <th>y</th>\n",
       "    </tr>\n",
       "  </thead>\n",
       "  <tbody>\n",
       "    <tr>\n",
       "      <th>0</th>\n",
       "      <td>1.0</td>\n",
       "    </tr>\n",
       "    <tr>\n",
       "      <th>1</th>\n",
       "      <td>0.0</td>\n",
       "    </tr>\n",
       "    <tr>\n",
       "      <th>2</th>\n",
       "      <td>1.0</td>\n",
       "    </tr>\n",
       "    <tr>\n",
       "      <th>3</th>\n",
       "      <td>0.0</td>\n",
       "    </tr>\n",
       "    <tr>\n",
       "      <th>4</th>\n",
       "      <td>0.0</td>\n",
       "    </tr>\n",
       "  </tbody>\n",
       "</table>\n",
       "</div>"
      ],
      "text/plain": [
       "     y\n",
       "0  1.0\n",
       "1  0.0\n",
       "2  1.0\n",
       "3  0.0\n",
       "4  0.0"
      ]
     },
     "execution_count": 5,
     "metadata": {},
     "output_type": "execute_result"
    }
   ],
   "source": [
    "y_train.head()"
   ]
  },
  {
   "cell_type": "markdown",
   "metadata": {},
   "source": [
    "## Training\n",
    "### Logistic Regression"
   ]
  },
  {
   "cell_type": "code",
   "execution_count": 6,
   "metadata": {
    "scrolled": true
   },
   "outputs": [
    {
     "name": "stdout",
     "output_type": "stream",
     "text": [
      "train acc: 0.5460\n",
      " test acc: 0.5400\n"
     ]
    }
   ],
   "source": [
    "LR = LogisticRegression(random_state=0, solver='liblinear', penalty='l1', C=0.1, max_iter=1000)\n",
    "LR.fit(x_train, y_train.y)\n",
    "print('train acc: %.4f'%LR.score(x_train, y_train))\n",
    "print(' test acc: %.4f'%LR.score(x_test, y_test))"
   ]
  },
  {
   "cell_type": "markdown",
   "metadata": {},
   "source": [
    "### Neural Network"
   ]
  },
  {
   "cell_type": "code",
   "execution_count": 7,
   "metadata": {
    "scrolled": true
   },
   "outputs": [
    {
     "name": "stdout",
     "output_type": "stream",
     "text": [
      "train acc: 0.5597\n",
      " test acc: 0.5480\n"
     ]
    }
   ],
   "source": [
    "MLP = MLPClassifier(random_state=0, max_iter=300, hidden_layer_sizes=(10, 5,))\n",
    "MLP.fit(x_train, y_train.y)\n",
    "print('train acc: %.4f'%MLP.score(x_train, y_train))\n",
    "print(' test acc: %.4f'%MLP.score(x_test, y_test))"
   ]
  },
  {
   "cell_type": "markdown",
   "metadata": {},
   "source": [
    "### Other Classifier - LinearSVC"
   ]
  },
  {
   "cell_type": "code",
   "execution_count": 8,
   "metadata": {
    "scrolled": true
   },
   "outputs": [
    {
     "name": "stdout",
     "output_type": "stream",
     "text": [
      "train acc: 0.5433\n",
      " test acc: 0.5480\n"
     ]
    }
   ],
   "source": [
    "SVC = make_pipeline(StandardScaler(), LinearSVC(random_state=0, tol=1e-5, penalty='l1', dual=False, C=0.1))\n",
    "SVC.fit(x_train, y_train.y)\n",
    "print('train acc: %.4f'%SVC.score(x_train, y_train))\n",
    "print(' test acc: %.4f'%SVC.score(x_test, y_test))"
   ]
  },
  {
   "cell_type": "markdown",
   "metadata": {},
   "source": [
    "### Ensemble"
   ]
  },
  {
   "cell_type": "code",
   "execution_count": 9,
   "metadata": {},
   "outputs": [
    {
     "name": "stdout",
     "output_type": "stream",
     "text": [
      "train acc: 0.5561\n",
      " test acc: 0.5760\n"
     ]
    }
   ],
   "source": [
    "model = [LR, MLP, SVC]\n",
    "weight = [0.2, 0.5, 0.3]\n",
    "pred_train, pred_test = [], []\n",
    "for i in range(len(model)):\n",
    "    pred_train.append(model[i].predict(x_train)*weight[i])\n",
    "    pred_test.append(model[i].predict(x_test)*weight[i])\n",
    "pred_train = np.round(np.array(pred_train).sum(0))\n",
    "pred_test = np.round(np.array(pred_test).sum(0))\n",
    "\n",
    "print('train acc: %.4f'%np.mean(pred_train == y_train.y))\n",
    "print(' test acc: %.4f'%np.mean(pred_test == y_test.y))"
   ]
  }
 ],
 "metadata": {
  "kernelspec": {
   "display_name": "Python 3",
   "language": "python",
   "name": "python3"
  },
  "language_info": {
   "codemirror_mode": {
    "name": "ipython",
    "version": 3
   },
   "file_extension": ".py",
   "mimetype": "text/x-python",
   "name": "python",
   "nbconvert_exporter": "python",
   "pygments_lexer": "ipython3",
   "version": "3.6.4"
  }
 },
 "nbformat": 4,
 "nbformat_minor": 4
}
